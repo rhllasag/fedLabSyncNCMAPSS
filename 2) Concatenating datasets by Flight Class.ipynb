{
 "cells": [
  {
   "cell_type": "markdown",
   "metadata": {},
   "source": [
    "# Dev and Train data for each Flight Class (FC)\n",
    "\n",
    "This notebook concatenates $DS*_{dev}.h5$ and $DS*_{test}.h5$ data obtained by executing \"\". By defining the flight class FC and filenames of interest in \"Data of interest\" section, this notebook saves a $FC*_{dev}.h5$ or a $FC*_{dev}.h5$ dataset file. \n",
    "\n",
    "The resulting dataset files are used to run: \n",
    "- Deep Learning N-CMAPSS by Flight Class.ipynb\n",
    "- Deep Learning N-CMAPSS Data-centralized.ipynb\n",
    "- Collaborative prediction using NCMAPSS.ipynb\n"
   ]
  },
  {
   "cell_type": "markdown",
   "metadata": {},
   "source": [
    "# Libraries"
   ]
  },
  {
   "cell_type": "code",
   "execution_count": null,
   "metadata": {},
   "outputs": [],
   "source": [
    "#!pip install seaborn"
   ]
  },
  {
   "cell_type": "code",
   "execution_count": 56,
   "metadata": {},
   "outputs": [],
   "source": [
    "import os\n",
    "import h5py\n",
    "import time\n",
    "import matplotlib\n",
    "import numpy as np\n",
    "import pandas as pd\n",
    "import seaborn as sns\n",
    "from pandas import DataFrame\n",
    "import matplotlib.pyplot as plt\n",
    "from matplotlib import gridspec\n",
    "%matplotlib inline"
   ]
  },
  {
   "cell_type": "markdown",
   "metadata": {},
   "source": [
    "# Data of interest"
   ]
  },
  {
   "cell_type": "code",
   "execution_count": 77,
   "metadata": {},
   "outputs": [],
   "source": [
    "### Set-up - Define file location\n",
    "FC = 3\n",
    "MODE = 'TEST'\n",
    "\n",
    "\n",
    "filenames = ['N-CMAPSS_DS01-005',\n",
    "           'N-CMAPSS_DS02-006', \n",
    "           #np.nan,\n",
    "            'N-CMAPSS_DS03-012',\n",
    "           'N-CMAPSS_DS04',\n",
    "           #np.nan,\n",
    "             'N-CMAPSS_DS05',\n",
    "           'N-CMAPSS_DS06',\n",
    "           'N-CMAPSS_DS07',\n",
    "           'N-CMAPSS_DS08a-009',\n",
    "           #'N-CMAPSS_DS08c-008',\n",
    "           np.nan,\n",
    "          ]\n"
   ]
  },
  {
   "cell_type": "code",
   "execution_count": 78,
   "metadata": {},
   "outputs": [],
   "source": [
    "# Load data\n",
    "if MODE == 'DEV':\n",
    "    mode = '_dev' \n",
    "if MODE == 'TEST':\n",
    "    mode = '_test'"
   ]
  },
  {
   "cell_type": "markdown",
   "metadata": {},
   "source": [
    "## Read Data from multiple filenames"
   ]
  },
  {
   "cell_type": "code",
   "execution_count": 79,
   "metadata": {},
   "outputs": [],
   "source": [
    "# Time tracking, Operation time (min):  0.003\n",
    "t = time.process_time()  \n",
    "\n",
    "for filename_poss in range(len(filenames)):\n",
    "    if pd.isnull(filenames[filename_poss])==False:\n",
    "        if filename_poss==0:\n",
    "            with h5py.File(\"FC\"+str(FC)+\"/\"+MODE+\"/\"+filenames[filename_poss]+mode+\".h5\", 'r') as hdf:\n",
    "                # Development set\n",
    "                W = np.array(hdf.get('W'+mode))             # W\n",
    "                X_s = np.array(hdf.get('X_s'+mode))         # X_s\n",
    "                X_v = np.array(hdf.get('X_v'+mode))         # X_v\n",
    "                T = np.array(hdf.get('T'+mode))             # T\n",
    "                Y = np.array(hdf.get('Y'+mode))             # RUL  \n",
    "                A = np.array(hdf.get('A'+mode))\n",
    "\n",
    "                # Varnams\n",
    "                W_var = np.array(hdf.get('W_var'))\n",
    "                X_s_var = np.array(hdf.get('X_s_var'))  \n",
    "                X_v_var = np.array(hdf.get('X_v_var')) \n",
    "                T_var = np.array(hdf.get('T_var'))\n",
    "                A_var = np.array(hdf.get('A_var'))\n",
    "\n",
    "                W_var_array  = np.array(W_var)\n",
    "                X_s_var_array = np.array(X_s_var)\n",
    "                X_v_var_array = np.array(X_v_var)\n",
    "                T_var_array = np.array(T_var)\n",
    "                A_var_array = np.array(A_var)\n",
    "\n",
    "                df_A = DataFrame(data=A, columns=list(np.array(A_var, dtype='U20')))\n",
    "                df_A['unit'] = df_A['unit']+(filename_poss+1)*100\n",
    "                A = df_A.to_numpy(dtype='float32')\n",
    "\n",
    "\n",
    "        if filename_poss==(len(filenames)-1):\n",
    "            print('')\n",
    "            print(\"Operation time (min): \" , (time.process_time()-t)/60)\n",
    "            print('')\n",
    "            print (\"W shape: \" + str(W.shape))\n",
    "            print (\"X_s shape: \" + str(X_s.shape))\n",
    "            print (\"X_v shape: \" + str(X_v.shape))\n",
    "            print (\"T shape: \" + str(T.shape))\n",
    "            print (\"Y shape: \" + str(Y.shape))\n",
    "            print (\"A shape: \" + str(A.shape))\n",
    "\n",
    "            print (\"W_var shape: \" + str(len(W_var)))\n",
    "            print (\"X_s_var shape: \" + str(len(X_s_var)))\n",
    "            print (\"X_v_var shape: \" + str(len(X_v_var)))\n",
    "            print (\"T_var shape: \" + str(len(T_var)))\n",
    "            print (\"A_var shape: \" + str(len(A_var)))\n",
    "\n",
    "\n",
    "        with h5py.File(\"FC\"+str(FC)+\"/\"+MODE+\"/\"+filenames[filename_poss]+mode+\".h5\", 'r') as hdf:\n",
    "            # Development set\n",
    "            W_ = np.array(hdf.get('W'+mode))             # W\n",
    "            X_s_ = np.array(hdf.get('X_s'+mode))         # X_s\n",
    "            X_v_ = np.array(hdf.get('X_v'+mode))         # X_v\n",
    "            T_ = np.array(hdf.get('T'+mode))             # T\n",
    "            Y_ = np.array(hdf.get('Y'+mode))             # RUL  \n",
    "            A_ = np.array(hdf.get('A'+mode))             # Auxiliary\n",
    "\n",
    "                # Varnams\n",
    "            W_var = np.array(hdf.get('W_var'))\n",
    "            X_s_var = np.array(hdf.get('X_s_var'))  \n",
    "            X_v_var = np.array(hdf.get('X_v_var')) \n",
    "            T_var = np.array(hdf.get('T_var'))\n",
    "            A_var = np.array(hdf.get('A_var'))\n",
    "\n",
    "                # from np.array to list dtype U4/U5\n",
    "            W_var = list(np.array(W_var, dtype='U20'))\n",
    "            X_s_var = list(np.array(X_s_var, dtype='U20'))  \n",
    "            X_v_var = list(np.array(X_v_var, dtype='U20')) \n",
    "            T_var = list(np.array(T_var, dtype='U20'))\n",
    "            A_var = list(np.array(A_var, dtype='U20'))\n",
    "\n",
    "\n",
    "            df_A = DataFrame(data=A_, columns=list(np.array(A_var, dtype='U20')))\n",
    "            df_A['unit'] = df_A['unit']+(filename_poss+1)*100\n",
    "            A_ = df_A.to_numpy(dtype='float32')\n",
    "\n",
    "            W = np.concatenate((W, W_), axis=0)  \n",
    "            X_s = np.concatenate((X_s, X_s_), axis=0)\n",
    "            X_v = np.concatenate((X_v, X_v_), axis=0)\n",
    "            T = np.concatenate((T, T_), axis=0)\n",
    "            Y = np.concatenate((Y, Y_), axis=0) \n",
    "            A = np.concatenate((A, A_), axis=0) "
   ]
  },
  {
   "cell_type": "markdown",
   "metadata": {},
   "source": [
    "## Save data per mode"
   ]
  },
  {
   "cell_type": "code",
   "execution_count": 80,
   "metadata": {},
   "outputs": [],
   "source": [
    "with h5py.File(\"FC\"+str(FC)+mode+'.h5', 'w') as f:\n",
    "    f.create_dataset('T'+mode, data=T)\n",
    "    f.create_dataset('Y'+mode, data=Y)\n",
    "    f.create_dataset('A'+mode, data=A)\n",
    "    f.create_dataset('W'+mode, data=W)\n",
    "    f.create_dataset('X_s'+mode, data=X_s)\n",
    "    f.create_dataset('X_v'+mode, data=X_v)\n",
    "    f.create_dataset('W_var', data=W_var_array)\n",
    "    f.create_dataset('X_s_var', data=X_s_var_array)\n",
    "    f.create_dataset('X_v_var', data=X_v_var_array)\n",
    "    f.create_dataset('T_var', data=T_var_array)\n",
    "    f.create_dataset('A_var', data=A_var_array)"
   ]
  },
  {
   "cell_type": "code",
   "execution_count": null,
   "metadata": {},
   "outputs": [],
   "source": []
  },
  {
   "cell_type": "code",
   "execution_count": null,
   "metadata": {},
   "outputs": [],
   "source": []
  },
  {
   "cell_type": "code",
   "execution_count": null,
   "metadata": {},
   "outputs": [],
   "source": []
  },
  {
   "cell_type": "code",
   "execution_count": null,
   "metadata": {},
   "outputs": [],
   "source": []
  }
 ],
 "metadata": {
  "kernelspec": {
   "display_name": "Python 3 (ipykernel)",
   "language": "python",
   "name": "python3"
  },
  "language_info": {
   "codemirror_mode": {
    "name": "ipython",
    "version": 3
   },
   "file_extension": ".py",
   "mimetype": "text/x-python",
   "name": "python",
   "nbconvert_exporter": "python",
   "pygments_lexer": "ipython3",
   "version": "3.7.7"
  },
  "toc": {
   "base_numbering": 1,
   "nav_menu": {},
   "number_sections": true,
   "sideBar": true,
   "skip_h1_title": false,
   "title_cell": "Table of Contents",
   "title_sidebar": "Contents",
   "toc_cell": false,
   "toc_position": {
    "height": "calc(100% - 180px)",
    "left": "10px",
    "top": "150px",
    "width": "165px"
   },
   "toc_section_display": true,
   "toc_window_display": true
  }
 },
 "nbformat": 4,
 "nbformat_minor": 2
}
